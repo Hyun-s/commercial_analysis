{
  "nbformat": 4,
  "nbformat_minor": 0,
  "metadata": {
    "colab": {
      "name": "상권openapi적용.ipynb",
      "provenance": [],
      "collapsed_sections": []
    },
    "kernelspec": {
      "name": "python3",
      "display_name": "Python 3"
    },
    "language_info": {
      "name": "python"
    }
  },
  "cells": [
    {
      "cell_type": "code",
      "metadata": {
        "id": "YKJzIdDVPzIo"
      },
      "source": [
        "# Python 샘플 코드 #\n",
        "\n",
        "from urllib.request import Request, urlopen\n",
        "from urllib.parse import urlencode, quote_plus\n",
        "import pandas as pd\n",
        "import json\n",
        "\n",
        "def baro_api(skey,res_id,encode):\n",
        "  stype='json'\n",
        "  url = 'http://apis.data.go.kr/B553077/api/open/sdsc/baroApi'\n",
        "  params= f'?&ServiceKey={skey}&type={stype}&resId={res_id}&'+encode\n",
        "  query=url+params\n",
        "  #print(query)\n",
        "  request = Request(query)\n",
        "  request.get_method = lambda: 'GET'\n",
        "  response_body = urlopen(request).read()\n",
        "  #print(response_body)\n",
        "  response_dict=json.loads(response_body.decode('utf-8'))\n",
        "  items=response_dict['body']['items']\n",
        "  df=pd.DataFrame(items)\n",
        "  return df"
      ],
      "execution_count": null,
      "outputs": []
    },
    {
      "cell_type": "markdown",
      "metadata": {
        "id": "N9xuZeJiVxA6"
      },
      "source": [
        "- 지정 상권 조회"
      ]
    },
    {
      "cell_type": "code",
      "metadata": {
        "colab": {
          "base_uri": "https://localhost:8080/",
          "height": 79
        },
        "id": "FfBdZFzLQmq_",
        "outputId": "62c01588-c59d-426b-eed0-8d7a8f1e61a7"
      },
      "source": [
        "encode=urlencode({ quote_plus('Key') : '573'})\n",
        "res_id='storezone'\n",
        "skey='HVVYG52ZT%2F%2F7CeAPBGVcpew7naNpeHF6WP4rncas3R9BmUxmeplNR6C1GZOP8%2Bwielt8AGr79oSemCiQ%2FbYe3A%3D%3D'\n",
        "baro_api(skey,res_id,encode)"
      ],
      "execution_count": null,
      "outputs": [
        {
          "output_type": "execute_result",
          "data": {
            "text/html": [
              "<div>\n",
              "<style scoped>\n",
              "    .dataframe tbody tr th:only-of-type {\n",
              "        vertical-align: middle;\n",
              "    }\n",
              "\n",
              "    .dataframe tbody tr th {\n",
              "        vertical-align: top;\n",
              "    }\n",
              "\n",
              "    .dataframe thead th {\n",
              "        text-align: right;\n",
              "    }\n",
              "</style>\n",
              "<table border=\"1\" class=\"dataframe\">\n",
              "  <thead>\n",
              "    <tr style=\"text-align: right;\">\n",
              "      <th></th>\n",
              "      <th>trarNo</th>\n",
              "      <th>mainTrarNm</th>\n",
              "      <th>ctprvnCd</th>\n",
              "      <th>ctprvnNm</th>\n",
              "      <th>signguCd</th>\n",
              "      <th>signguNm</th>\n",
              "      <th>trarArea</th>\n",
              "      <th>coordNum</th>\n",
              "      <th>coords</th>\n",
              "      <th>stdrDt</th>\n",
              "    </tr>\n",
              "  </thead>\n",
              "  <tbody>\n",
              "    <tr>\n",
              "      <th>0</th>\n",
              "      <td>573</td>\n",
              "      <td>부산 금정구 구서동역</td>\n",
              "      <td>26</td>\n",
              "      <td>부산광역시</td>\n",
              "      <td>26410</td>\n",
              "      <td>금정구</td>\n",
              "      <td>66080.5</td>\n",
              "      <td>16</td>\n",
              "      <td>POLYGON ((129.09092 35.248544, 129.090527 35.2...</td>\n",
              "      <td>2015-12-17</td>\n",
              "    </tr>\n",
              "  </tbody>\n",
              "</table>\n",
              "</div>"
            ],
            "text/plain": [
              "   trarNo  ...      stdrDt\n",
              "0     573  ...  2015-12-17\n",
              "\n",
              "[1 rows x 10 columns]"
            ]
          },
          "metadata": {
            "tags": []
          },
          "execution_count": 16
        }
      ]
    },
    {
      "cell_type": "markdown",
      "metadata": {
        "id": "Ns5I0zbVV4DU"
      },
      "source": [
        "- 반경 내 상권 조회"
      ]
    },
    {
      "cell_type": "code",
      "metadata": {
        "colab": {
          "base_uri": "https://localhost:8080/",
          "height": 289
        },
        "id": "AnM55N5RU2B8",
        "outputId": "2c02d2a7-d13e-4820-b3e2-2d07759a8f6b"
      },
      "source": [
        "encode=urlencode({ quote_plus('catId') : 'radius', quote_plus('radius') : '500',quote_plus('cx') : '127.004528', quote_plus('cy') : '37.567538'})\n",
        "baro_api(skey,res_id,encode)"
      ],
      "execution_count": null,
      "outputs": [
        {
          "output_type": "execute_result",
          "data": {
            "text/html": [
              "<div>\n",
              "<style scoped>\n",
              "    .dataframe tbody tr th:only-of-type {\n",
              "        vertical-align: middle;\n",
              "    }\n",
              "\n",
              "    .dataframe tbody tr th {\n",
              "        vertical-align: top;\n",
              "    }\n",
              "\n",
              "    .dataframe thead th {\n",
              "        text-align: right;\n",
              "    }\n",
              "</style>\n",
              "<table border=\"1\" class=\"dataframe\">\n",
              "  <thead>\n",
              "    <tr style=\"text-align: right;\">\n",
              "      <th></th>\n",
              "      <th>trarNo</th>\n",
              "      <th>mainTrarNm</th>\n",
              "      <th>ctprvnCd</th>\n",
              "      <th>ctprvnNm</th>\n",
              "      <th>signguCd</th>\n",
              "      <th>signguNm</th>\n",
              "      <th>trarArea</th>\n",
              "      <th>coordNum</th>\n",
              "      <th>coords</th>\n",
              "      <th>stdrDt</th>\n",
              "    </tr>\n",
              "  </thead>\n",
              "  <tbody>\n",
              "    <tr>\n",
              "      <th>0</th>\n",
              "      <td>2214</td>\n",
              "      <td>을지로4가역</td>\n",
              "      <td>11</td>\n",
              "      <td>서울특별시</td>\n",
              "      <td>11140</td>\n",
              "      <td>중구</td>\n",
              "      <td>88434.9</td>\n",
              "      <td>8</td>\n",
              "      <td>POLYGON ((126.999081 37.566789, 127.002102 37....</td>\n",
              "      <td>2015-12-17</td>\n",
              "    </tr>\n",
              "    <tr>\n",
              "      <th>1</th>\n",
              "      <td>2216</td>\n",
              "      <td>동대문시장</td>\n",
              "      <td>11</td>\n",
              "      <td>서울특별시</td>\n",
              "      <td>11140</td>\n",
              "      <td>중구</td>\n",
              "      <td>68658.0</td>\n",
              "      <td>15</td>\n",
              "      <td>POLYGON ((127.009453 37.568775, 127.009445 37....</td>\n",
              "      <td>2015-12-17</td>\n",
              "    </tr>\n",
              "    <tr>\n",
              "      <th>2</th>\n",
              "      <td>2207</td>\n",
              "      <td>동대문역사문화공원역</td>\n",
              "      <td>11</td>\n",
              "      <td>서울특별시</td>\n",
              "      <td>11140</td>\n",
              "      <td>중구</td>\n",
              "      <td>81499.1</td>\n",
              "      <td>8</td>\n",
              "      <td>POLYGON ((127.007565 37.565945, 127.004846 37....</td>\n",
              "      <td>2015-12-17</td>\n",
              "    </tr>\n",
              "    <tr>\n",
              "      <th>3</th>\n",
              "      <td>2226</td>\n",
              "      <td>동대문시장</td>\n",
              "      <td>11</td>\n",
              "      <td>서울특별시</td>\n",
              "      <td>11110</td>\n",
              "      <td>종로구</td>\n",
              "      <td>82364.6</td>\n",
              "      <td>28</td>\n",
              "      <td>POLYGON ((127.009388 37.570565, 127.008984 37....</td>\n",
              "      <td>2015-12-17</td>\n",
              "    </tr>\n",
              "    <tr>\n",
              "      <th>4</th>\n",
              "      <td>2225</td>\n",
              "      <td>서울 종로구 종로5가역_1</td>\n",
              "      <td>11</td>\n",
              "      <td>서울특별시</td>\n",
              "      <td>11110</td>\n",
              "      <td>종로구</td>\n",
              "      <td>50246.7</td>\n",
              "      <td>20</td>\n",
              "      <td>POLYGON ((127.001795 37.57082, 127.000088 37.5...</td>\n",
              "      <td>2015-12-17</td>\n",
              "    </tr>\n",
              "  </tbody>\n",
              "</table>\n",
              "</div>"
            ],
            "text/plain": [
              "   trarNo  ...      stdrDt\n",
              "0    2214  ...  2015-12-17\n",
              "1    2216  ...  2015-12-17\n",
              "2    2207  ...  2015-12-17\n",
              "3    2226  ...  2015-12-17\n",
              "4    2225  ...  2015-12-17\n",
              "\n",
              "[5 rows x 10 columns]"
            ]
          },
          "metadata": {
            "tags": []
          },
          "execution_count": 23
        }
      ]
    },
    {
      "cell_type": "markdown",
      "metadata": {
        "id": "LVsl1F4vX6RB"
      },
      "source": [
        "- 행정구역 단위 상권조회"
      ]
    },
    {
      "cell_type": "code",
      "metadata": {
        "colab": {
          "base_uri": "https://localhost:8080/",
          "height": 79
        },
        "id": "B9KRlqPbX8I-",
        "outputId": "c6a703ff-5b59-4152-d7dd-3ab7ac4e37d5"
      },
      "source": [
        "encode=urlencode({ quote_plus('catId') : 'dong', quote_plus('divId') : 'adongCd',quote_plus('key') : '1168069000'})\n",
        "baro_api(skey,res_id,encode)\n"
      ],
      "execution_count": null,
      "outputs": [
        {
          "output_type": "execute_result",
          "data": {
            "text/html": [
              "<div>\n",
              "<style scoped>\n",
              "    .dataframe tbody tr th:only-of-type {\n",
              "        vertical-align: middle;\n",
              "    }\n",
              "\n",
              "    .dataframe tbody tr th {\n",
              "        vertical-align: top;\n",
              "    }\n",
              "\n",
              "    .dataframe thead th {\n",
              "        text-align: right;\n",
              "    }\n",
              "</style>\n",
              "<table border=\"1\" class=\"dataframe\">\n",
              "  <thead>\n",
              "    <tr style=\"text-align: right;\">\n",
              "      <th></th>\n",
              "      <th>trarNo</th>\n",
              "      <th>mainTrarNm</th>\n",
              "      <th>ctprvnCd</th>\n",
              "      <th>ctprvnNm</th>\n",
              "      <th>signguCd</th>\n",
              "      <th>signguNm</th>\n",
              "      <th>trarArea</th>\n",
              "      <th>coordNum</th>\n",
              "      <th>coords</th>\n",
              "      <th>stdrDt</th>\n",
              "    </tr>\n",
              "  </thead>\n",
              "  <tbody>\n",
              "    <tr>\n",
              "      <th>0</th>\n",
              "      <td>1784</td>\n",
              "      <td>포이사거리</td>\n",
              "      <td>11</td>\n",
              "      <td>서울특별시</td>\n",
              "      <td>11680</td>\n",
              "      <td>강남구</td>\n",
              "      <td>19816.5</td>\n",
              "      <td>13</td>\n",
              "      <td>POLYGON ((127.045483 37.477389, 127.045158 37....</td>\n",
              "      <td>2015-12-17</td>\n",
              "    </tr>\n",
              "  </tbody>\n",
              "</table>\n",
              "</div>"
            ],
            "text/plain": [
              "   trarNo  ...      stdrDt\n",
              "0    1784  ...  2015-12-17\n",
              "\n",
              "[1 rows x 10 columns]"
            ]
          },
          "metadata": {
            "tags": []
          },
          "execution_count": 24
        }
      ]
    }
  ]
}